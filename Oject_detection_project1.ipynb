{
  "nbformat": 4,
  "nbformat_minor": 0,
  "metadata": {
    "colab": {
      "name": "Oject_detection_project1.ipynb",
      "provenance": [],
      "mount_file_id": "1pt4ij3CPUuWrJXHiN3VwrPUKhQe8Hvu2",
      "authorship_tag": "ABX9TyNnO/NVPhGfBGOEFK11/+Oq",
      "include_colab_link": true
    },
    "kernelspec": {
      "name": "python3",
      "display_name": "Python 3"
    }
  },
  "cells": [
    {
      "cell_type": "markdown",
      "metadata": {
        "id": "view-in-github",
        "colab_type": "text"
      },
      "source": [
        "<a href=\"https://colab.research.google.com/github/NKumarsai/Project_assignment/blob/master/Oject_detection_project1.ipynb\" target=\"_parent\"><img src=\"https://colab.research.google.com/assets/colab-badge.svg\" alt=\"Open In Colab\"/></a>"
      ]
    },
    {
      "cell_type": "code",
      "metadata": {
        "id": "eT3iDrGFRVwE",
        "colab_type": "code",
        "colab": {}
      },
      "source": [
        "import pandas as pd\n",
        "import numpy as np"
      ],
      "execution_count": 0,
      "outputs": []
    },
    {
      "cell_type": "code",
      "metadata": {
        "id": "sxMZBMS5ReTd",
        "colab_type": "code",
        "outputId": "16ca8e66-8751-4e1e-a4bd-b462722c2985",
        "colab": {
          "base_uri": "https://localhost:8080/",
          "height": 54
        }
      },
      "source": [
        "pip install opencv-python"
      ],
      "execution_count": 0,
      "outputs": [
        {
          "output_type": "stream",
          "text": [
            "Requirement already satisfied: opencv-python in /usr/local/lib/python3.6/dist-packages (3.4.9.31)\n",
            "Requirement already satisfied: numpy>=1.11.3 in /usr/local/lib/python3.6/dist-packages (from opencv-python) (1.15.4)\n"
          ],
          "name": "stdout"
        }
      ]
    },
    {
      "cell_type": "code",
      "metadata": {
        "id": "ZyCS6OTOyCsL",
        "colab_type": "code",
        "outputId": "2afcd855-dd5d-4602-ab72-24de4cdba487",
        "colab": {
          "base_uri": "https://localhost:8080/",
          "height": 55
        }
      },
      "source": [
        "pip install https://github.com/OlafenwaMoses/ImageAI/releases/download/2.0.1/imageai-2.0.1-py3-none-any.whl"
      ],
      "execution_count": 0,
      "outputs": [
        {
          "output_type": "stream",
          "text": [
            "Requirement already satisfied: imageai==2.0.1 from https://github.com/OlafenwaMoses/ImageAI/releases/download/2.0.1/imageai-2.0.1-py3-none-any.whl in /usr/local/lib/python3.6/dist-packages (2.0.1)\n"
          ],
          "name": "stdout"
        }
      ]
    },
    {
      "cell_type": "code",
      "metadata": {
        "id": "GkVT_n-1RrYf",
        "colab_type": "code",
        "outputId": "efd77460-e576-49a6-82f1-b838d4633725",
        "colab": {
          "base_uri": "https://localhost:8080/",
          "height": 328
        }
      },
      "source": [
        "pip install imageai --upgrade"
      ],
      "execution_count": 0,
      "outputs": [
        {
          "output_type": "stream",
          "text": [
            "Collecting imageai\n",
            "\u001b[?25l  Downloading https://files.pythonhosted.org/packages/09/99/4023e191a343fb23f01ae02ac57a5ca58037c310e8d8c62f87638a3bafc7/imageai-2.1.5-py3-none-any.whl (180kB)\n",
            "\r\u001b[K     |█▉                              | 10kB 20.0MB/s eta 0:00:01\r\u001b[K     |███▋                            | 20kB 1.7MB/s eta 0:00:01\r\u001b[K     |█████▍                          | 30kB 2.3MB/s eta 0:00:01\r\u001b[K     |███████▎                        | 40kB 1.7MB/s eta 0:00:01\r\u001b[K     |█████████                       | 51kB 1.9MB/s eta 0:00:01\r\u001b[K     |██████████▉                     | 61kB 2.2MB/s eta 0:00:01\r\u001b[K     |████████████▊                   | 71kB 2.4MB/s eta 0:00:01\r\u001b[K     |██████████████▌                 | 81kB 2.6MB/s eta 0:00:01\r\u001b[K     |████████████████▎               | 92kB 2.9MB/s eta 0:00:01\r\u001b[K     |██████████████████▏             | 102kB 2.7MB/s eta 0:00:01\r\u001b[K     |████████████████████            | 112kB 2.7MB/s eta 0:00:01\r\u001b[K     |█████████████████████▊          | 122kB 2.7MB/s eta 0:00:01\r\u001b[K     |███████████████████████▋        | 133kB 2.7MB/s eta 0:00:01\r\u001b[K     |█████████████████████████▍      | 143kB 2.7MB/s eta 0:00:01\r\u001b[K     |███████████████████████████▏    | 153kB 2.7MB/s eta 0:00:01\r\u001b[K     |█████████████████████████████   | 163kB 2.7MB/s eta 0:00:01\r\u001b[K     |██████████████████████████████▉ | 174kB 2.7MB/s eta 0:00:01\r\u001b[K     |████████████████████████████████| 184kB 2.7MB/s \n",
            "\u001b[?25hRequirement already satisfied, skipping upgrade: pillow in /usr/local/lib/python3.6/dist-packages (from imageai) (6.2.2)\n",
            "Requirement already satisfied, skipping upgrade: numpy in /usr/local/lib/python3.6/dist-packages (from imageai) (1.17.5)\n",
            "Requirement already satisfied, skipping upgrade: h5py in /usr/local/lib/python3.6/dist-packages (from imageai) (2.8.0)\n",
            "Requirement already satisfied, skipping upgrade: matplotlib in /usr/local/lib/python3.6/dist-packages (from imageai) (3.1.3)\n",
            "Requirement already satisfied, skipping upgrade: scipy in /usr/local/lib/python3.6/dist-packages (from imageai) (1.4.1)\n",
            "Requirement already satisfied, skipping upgrade: six in /usr/local/lib/python3.6/dist-packages (from h5py->imageai) (1.12.0)\n",
            "Requirement already satisfied, skipping upgrade: cycler>=0.10 in /usr/local/lib/python3.6/dist-packages (from matplotlib->imageai) (0.10.0)\n",
            "Requirement already satisfied, skipping upgrade: pyparsing!=2.0.4,!=2.1.2,!=2.1.6,>=2.0.1 in /usr/local/lib/python3.6/dist-packages (from matplotlib->imageai) (2.4.6)\n",
            "Requirement already satisfied, skipping upgrade: python-dateutil>=2.1 in /usr/local/lib/python3.6/dist-packages (from matplotlib->imageai) (2.6.1)\n",
            "Requirement already satisfied, skipping upgrade: kiwisolver>=1.0.1 in /usr/local/lib/python3.6/dist-packages (from matplotlib->imageai) (1.1.0)\n",
            "Requirement already satisfied, skipping upgrade: setuptools in /usr/local/lib/python3.6/dist-packages (from kiwisolver>=1.0.1->matplotlib->imageai) (45.2.0)\n",
            "Installing collected packages: imageai\n",
            "Successfully installed imageai-2.1.5\n"
          ],
          "name": "stdout"
        }
      ]
    },
    {
      "cell_type": "code",
      "metadata": {
        "id": "TvR72wOrRzud",
        "colab_type": "code",
        "outputId": "1a5507b6-e1e6-4c5a-f34f-bfccef17acb2",
        "colab": {
          "base_uri": "https://localhost:8080/",
          "height": 83
        }
      },
      "source": [
        "## Importing Object Detection class from imageai.detection\n",
        "from imageai.Detection import ObjectDetection\n",
        "import os\n",
        "\n"
      ],
      "execution_count": 0,
      "outputs": [
        {
          "output_type": "stream",
          "text": [
            "Using TensorFlow backend.\n"
          ],
          "name": "stderr"
        },
        {
          "output_type": "display_data",
          "data": {
            "text/html": [
              "<p style=\"color: red;\">\n",
              "The default version of TensorFlow in Colab will soon switch to TensorFlow 2.x.<br>\n",
              "We recommend you <a href=\"https://www.tensorflow.org/guide/migrate\" target=\"_blank\">upgrade</a> now \n",
              "or ensure your notebook will continue to use TensorFlow 1.x via the <code>%tensorflow_version 1.x</code> magic:\n",
              "<a href=\"https://colab.research.google.com/notebooks/tensorflow_version.ipynb\" target=\"_blank\">more info</a>.</p>\n"
            ],
            "text/plain": [
              "<IPython.core.display.HTML object>"
            ]
          },
          "metadata": {
            "tags": []
          }
        }
      ]
    },
    {
      "cell_type": "code",
      "metadata": {
        "id": "d_Igiss2wMCp",
        "colab_type": "code",
        "outputId": "698b31eb-4909-460a-8dbf-0a71f10e0034",
        "colab": {
          "base_uri": "https://localhost:8080/",
          "height": 72
        }
      },
      "source": [
        "pip install h5py"
      ],
      "execution_count": 0,
      "outputs": [
        {
          "output_type": "stream",
          "text": [
            "Requirement already satisfied: h5py in /usr/local/lib/python3.6/dist-packages (2.8.0)\n",
            "Requirement already satisfied: numpy>=1.7 in /usr/local/lib/python3.6/dist-packages (from h5py) (1.15.4)\n",
            "Requirement already satisfied: six in /usr/local/lib/python3.6/dist-packages (from h5py) (1.12.0)\n"
          ],
          "name": "stdout"
        }
      ]
    },
    {
      "cell_type": "code",
      "metadata": {
        "id": "imhz0InNlJmf",
        "colab_type": "code",
        "outputId": "a87b85db-9673-492c-ff0d-fee90a40e78d",
        "colab": {
          "base_uri": "https://localhost:8080/",
          "height": 35
        }
      },
      "source": [
        "os.getcwd()"
      ],
      "execution_count": 0,
      "outputs": [
        {
          "output_type": "execute_result",
          "data": {
            "text/plain": [
              "'/content'"
            ]
          },
          "metadata": {
            "tags": []
          },
          "execution_count": 6
        }
      ]
    },
    {
      "cell_type": "code",
      "metadata": {
        "id": "vhejXMwklPYU",
        "colab_type": "code",
        "outputId": "708ce101-9fad-4d44-bee7-df8ae12882e5",
        "colab": {
          "base_uri": "https://localhost:8080/",
          "height": 35
        }
      },
      "source": [
        "os.chdir('/content/drive/My Drive/Day4/')\n",
        "os.getcwd()"
      ],
      "execution_count": 0,
      "outputs": [
        {
          "output_type": "execute_result",
          "data": {
            "text/plain": [
              "'/content/drive/My Drive/Day4'"
            ]
          },
          "metadata": {
            "tags": []
          },
          "execution_count": 7
        }
      ]
    },
    {
      "cell_type": "code",
      "metadata": {
        "id": "rtVSueLIReDU",
        "colab_type": "code",
        "colab": {}
      },
      "source": [
        ""
      ],
      "execution_count": 0,
      "outputs": []
    },
    {
      "cell_type": "code",
      "metadata": {
        "id": "uqc5jdv_kuYJ",
        "colab_type": "code",
        "outputId": "bf89c786-3fe6-422c-bf26-060a42247a7c",
        "colab": {
          "base_uri": "https://localhost:8080/",
          "height": 35
        }
      },
      "source": [
        "execution_path ='/content/drive/My Drive/Day4/'\n",
        "execution_path"
      ],
      "execution_count": 0,
      "outputs": [
        {
          "output_type": "execute_result",
          "data": {
            "text/plain": [
              "'/content/drive/My Drive/Day4/'"
            ]
          },
          "metadata": {
            "tags": []
          },
          "execution_count": 8
        }
      ]
    },
    {
      "cell_type": "code",
      "metadata": {
        "id": "msFGGkoblISe",
        "colab_type": "code",
        "colab": {}
      },
      "source": [
        ""
      ],
      "execution_count": 0,
      "outputs": []
    },
    {
      "cell_type": "code",
      "metadata": {
        "id": "7sS8iJWfjXL6",
        "colab_type": "code",
        "outputId": "9800651a-8b17-4463-b155-2cd206b3c1a0",
        "colab": {
          "base_uri": "https://localhost:8080/",
          "height": 1000
        }
      },
      "source": [
        "## Defining objectDetection class to detector\n",
        "## Set the model to RetinaNet\n",
        "## Loading the model into ObjectDetection class\n",
        "## Detection function and parsed in the input image path and the output image path\n",
        "\n",
        "detector = ObjectDetection()\n",
        "detector.setModelTypeAsRetinaNet()\n",
        "detector.setModelPath( os.path.join(execution_path , \"resnet50_coco_best_v2.0.1.h5\"))\n",
        "detector.loadModel()\n",
        "detections = detector.detectObjectsFromImage(input_image=os.path.join(execution_path , \"image1.png\"), output_image_path=os.path.join(execution_path , \"image_new.jpg\"))\n",
        "for eachObject in detections:\n",
        "   print(eachObject[\"name\"] + \" : \" + eachObject[\"percentage_probability\"] )\n",
        "   print(\"--------------------------------\")"
      ],
      "execution_count": 0,
      "outputs": [
        {
          "output_type": "stream",
          "text": [
            "WARNING:tensorflow:From /usr/local/lib/python3.6/dist-packages/keras/backend/tensorflow_backend.py:74: The name tf.get_default_graph is deprecated. Please use tf.compat.v1.get_default_graph instead.\n",
            "\n",
            "WARNING:tensorflow:From /usr/local/lib/python3.6/dist-packages/keras/backend/tensorflow_backend.py:517: The name tf.placeholder is deprecated. Please use tf.compat.v1.placeholder instead.\n",
            "\n",
            "WARNING:tensorflow:From /usr/local/lib/python3.6/dist-packages/keras/backend/tensorflow_backend.py:4138: The name tf.random_uniform is deprecated. Please use tf.random.uniform instead.\n",
            "\n",
            "WARNING:tensorflow:From /usr/local/lib/python3.6/dist-packages/keras/backend/tensorflow_backend.py:1919: The name tf.nn.fused_batch_norm is deprecated. Please use tf.compat.v1.nn.fused_batch_norm instead.\n",
            "\n",
            "WARNING:tensorflow:From /usr/local/lib/python3.6/dist-packages/keras/backend/tensorflow_backend.py:3976: The name tf.nn.max_pool is deprecated. Please use tf.nn.max_pool2d instead.\n",
            "\n",
            "WARNING:tensorflow:From /usr/local/lib/python3.6/dist-packages/keras/backend/tensorflow_backend.py:4185: The name tf.truncated_normal is deprecated. Please use tf.random.truncated_normal instead.\n",
            "\n",
            "WARNING:tensorflow:From /usr/local/lib/python3.6/dist-packages/keras/backend/tensorflow_backend.py:4115: The name tf.random_normal is deprecated. Please use tf.random.normal instead.\n",
            "\n",
            "WARNING:tensorflow:From /usr/local/lib/python3.6/dist-packages/imageai/Detection/keras_retinanet/backend/tensorflow_backend.py:22: The name tf.image.resize_images is deprecated. Please use tf.image.resize instead.\n",
            "\n",
            "WARNING:tensorflow:From /usr/local/lib/python3.6/dist-packages/imageai/Detection/keras_retinanet/backend/tensorflow_backend.py:46: where (from tensorflow.python.ops.array_ops) is deprecated and will be removed in a future version.\n",
            "Instructions for updating:\n",
            "Use tf.where in 2.0, which has the same broadcast rule as np.where\n",
            "WARNING:tensorflow:From /usr/local/lib/python3.6/dist-packages/keras/backend/tensorflow_backend.py:174: The name tf.get_default_session is deprecated. Please use tf.compat.v1.get_default_session instead.\n",
            "\n",
            "WARNING:tensorflow:From /usr/local/lib/python3.6/dist-packages/keras/backend/tensorflow_backend.py:181: The name tf.ConfigProto is deprecated. Please use tf.compat.v1.ConfigProto instead.\n",
            "\n",
            "WARNING:tensorflow:From /usr/local/lib/python3.6/dist-packages/keras/backend/tensorflow_backend.py:186: The name tf.Session is deprecated. Please use tf.compat.v1.Session instead.\n",
            "\n",
            "WARNING:tensorflow:From /usr/local/lib/python3.6/dist-packages/keras/backend/tensorflow_backend.py:190: The name tf.global_variables is deprecated. Please use tf.compat.v1.global_variables instead.\n",
            "\n",
            "WARNING:tensorflow:From /usr/local/lib/python3.6/dist-packages/keras/backend/tensorflow_backend.py:199: The name tf.is_variable_initialized is deprecated. Please use tf.compat.v1.is_variable_initialized instead.\n",
            "\n",
            "WARNING:tensorflow:From /usr/local/lib/python3.6/dist-packages/keras/backend/tensorflow_backend.py:206: The name tf.variables_initializer is deprecated. Please use tf.compat.v1.variables_initializer instead.\n",
            "\n",
            "person : 56.95701241493225\n",
            "--------------------------------\n",
            "person : 52.80929207801819\n",
            "--------------------------------\n",
            "person : 70.20389437675476\n",
            "--------------------------------\n",
            "person : 76.83470249176025\n",
            "--------------------------------\n",
            "person : 78.70041728019714\n",
            "--------------------------------\n",
            "bicycle : 79.77721691131592\n",
            "--------------------------------\n",
            "person : 83.55751633644104\n",
            "--------------------------------\n",
            "person : 89.4381046295166\n",
            "--------------------------------\n",
            "truck : 60.9330952167511\n",
            "--------------------------------\n",
            "person : 69.52638626098633\n",
            "--------------------------------\n",
            "bus : 98.00647497177124\n",
            "--------------------------------\n",
            "truck : 83.69431495666504\n",
            "--------------------------------\n",
            "car : 71.7011570930481\n",
            "--------------------------------\n"
          ],
          "name": "stdout"
        }
      ]
    },
    {
      "cell_type": "code",
      "metadata": {
        "id": "dafhQNpR00vM",
        "colab_type": "code",
        "outputId": "023f5b7e-cc55-4f8e-84e7-517c34745a95",
        "colab": {
          "base_uri": "https://localhost:8080/",
          "height": 708
        }
      },
      "source": [
        "detections = detector.detectObjectsFromImage(input_image=os.path.join(execution_path , \"image2.jpeg\"), output_image_path=os.path.join(execution_path , \"image_new2.jpg\"))\n",
        "for eachObject in detections:\n",
        "   print(eachObject[\"name\"] + \" : \" + eachObject[\"percentage_probability\"] )\n",
        "   print(\"--------------------------------\")"
      ],
      "execution_count": 0,
      "outputs": [
        {
          "output_type": "stream",
          "text": [
            "person : 70.24871110916138\n",
            "--------------------------------\n",
            "person : 59.112197160720825\n",
            "--------------------------------\n",
            "person : 60.18868684768677\n",
            "--------------------------------\n",
            "person : 75.11240243911743\n",
            "--------------------------------\n",
            "motorcycle : 59.41648483276367\n",
            "--------------------------------\n",
            "bus : 99.41463470458984\n",
            "--------------------------------\n",
            "car : 73.77609014511108\n",
            "--------------------------------\n",
            "person : 67.20049977302551\n",
            "--------------------------------\n",
            "person : 62.42203712463379\n",
            "--------------------------------\n",
            "person : 78.13594341278076\n",
            "--------------------------------\n",
            "person : 62.91903853416443\n",
            "--------------------------------\n",
            "person : 73.89280796051025\n",
            "--------------------------------\n",
            "person : 59.80254411697388\n",
            "--------------------------------\n",
            "person : 80.98730444908142\n",
            "--------------------------------\n",
            "motorcycle : 50.646960735321045\n",
            "--------------------------------\n",
            "motorcycle : 67.77188777923584\n",
            "--------------------------------\n",
            "person : 71.7767596244812\n",
            "--------------------------------\n",
            "bicycle : 90.39216041564941\n",
            "--------------------------------\n",
            "motorcycle : 85.8726978302002\n",
            "--------------------------------\n"
          ],
          "name": "stdout"
        }
      ]
    },
    {
      "cell_type": "code",
      "metadata": {
        "id": "WyMhCuaMvBZB",
        "colab_type": "code",
        "outputId": "1ea8a100-3451-4fdb-cd0c-2ac54c5f01d8",
        "colab": {
          "base_uri": "https://localhost:8080/",
          "height": 563
        }
      },
      "source": [
        "detections = detector.detectObjectsFromImage(input_image=os.path.join(execution_path , \"unnamed (4).png\"), output_image_path=os.path.join(execution_path , \"image_new3.jpg\"))\n",
        "for eachObject in detections:\n",
        "   print(eachObject[\"name\"] + \" : \" + eachObject[\"percentage_probability\"] )\n",
        "   print(\"--------------------------------\")"
      ],
      "execution_count": 0,
      "outputs": [
        {
          "output_type": "stream",
          "text": [
            "person : 61.36317253112793\n",
            "--------------------------------\n",
            "person : 79.92144823074341\n",
            "--------------------------------\n",
            "person : 61.142873764038086\n",
            "--------------------------------\n",
            "person : 55.62949180603027\n",
            "--------------------------------\n",
            "person : 75.13028383255005\n",
            "--------------------------------\n",
            "person : 65.42441248893738\n",
            "--------------------------------\n",
            "person : 53.76138687133789\n",
            "--------------------------------\n",
            "person : 78.21783423423767\n",
            "--------------------------------\n",
            "person : 77.48955488204956\n",
            "--------------------------------\n",
            "person : 85.9535813331604\n",
            "--------------------------------\n",
            "person : 62.78170347213745\n",
            "--------------------------------\n",
            "person : 94.18820142745972\n",
            "--------------------------------\n",
            "person : 89.79165554046631\n",
            "--------------------------------\n",
            "person : 83.58091115951538\n",
            "--------------------------------\n",
            "person : 81.12637996673584\n",
            "--------------------------------\n"
          ],
          "name": "stdout"
        }
      ]
    },
    {
      "cell_type": "code",
      "metadata": {
        "id": "VxklntmVRfuU",
        "colab_type": "code",
        "outputId": "a421e5b7-4477-4dd5-da92-82c53f3ebf8f",
        "colab": {
          "base_uri": "https://localhost:8080/",
          "height": 637
        }
      },
      "source": [
        "pip install py-agender"
      ],
      "execution_count": 0,
      "outputs": [
        {
          "output_type": "stream",
          "text": [
            "Requirement already satisfied: py-agender in /usr/local/lib/python3.6/dist-packages (0.0.9)\n",
            "Requirement already satisfied: Keras<2.2.5,>=2.2.4 in /usr/local/lib/python3.6/dist-packages (from py-agender) (2.2.4)\n",
            "Requirement already satisfied: twine>=1.10 in /usr/local/lib/python3.6/dist-packages (from py-agender) (3.1.1)\n",
            "Requirement already satisfied: numpy<=1.15.9,>=1.13 in /usr/local/lib/python3.6/dist-packages (from py-agender) (1.15.4)\n",
            "Requirement already satisfied: opencv-python<3.5,>=3.4.2+contrib in /usr/local/lib/python3.6/dist-packages (from py-agender) (3.4.9.31)\n",
            "Requirement already satisfied: six>=1.9.0 in /usr/local/lib/python3.6/dist-packages (from Keras<2.2.5,>=2.2.4->py-agender) (1.12.0)\n",
            "Requirement already satisfied: keras-preprocessing>=1.0.5 in /usr/local/lib/python3.6/dist-packages (from Keras<2.2.5,>=2.2.4->py-agender) (1.1.0)\n",
            "Requirement already satisfied: keras-applications>=1.0.6 in /usr/local/lib/python3.6/dist-packages (from Keras<2.2.5,>=2.2.4->py-agender) (1.0.8)\n",
            "Requirement already satisfied: h5py in /usr/local/lib/python3.6/dist-packages (from Keras<2.2.5,>=2.2.4->py-agender) (2.8.0)\n",
            "Requirement already satisfied: scipy>=0.14 in /usr/local/lib/python3.6/dist-packages (from Keras<2.2.5,>=2.2.4->py-agender) (1.4.1)\n",
            "Requirement already satisfied: pyyaml in /usr/local/lib/python3.6/dist-packages (from Keras<2.2.5,>=2.2.4->py-agender) (3.13)\n",
            "Requirement already satisfied: keyring>=15.1 in /usr/local/lib/python3.6/dist-packages (from twine>=1.10->py-agender) (21.1.1)\n",
            "Requirement already satisfied: importlib-metadata; python_version < \"3.8\" in /usr/local/lib/python3.6/dist-packages (from twine>=1.10->py-agender) (1.5.0)\n",
            "Requirement already satisfied: requests>=2.20 in /usr/local/lib/python3.6/dist-packages (from twine>=1.10->py-agender) (2.21.0)\n",
            "Requirement already satisfied: requests-toolbelt!=0.9.0,>=0.8.0 in /usr/local/lib/python3.6/dist-packages (from twine>=1.10->py-agender) (0.9.1)\n",
            "Requirement already satisfied: setuptools>=0.7.0 in /usr/local/lib/python3.6/dist-packages (from twine>=1.10->py-agender) (45.2.0)\n",
            "Requirement already satisfied: readme-renderer>=21.0 in /usr/local/lib/python3.6/dist-packages (from twine>=1.10->py-agender) (24.0)\n",
            "Requirement already satisfied: tqdm>=4.14 in /usr/local/lib/python3.6/dist-packages (from twine>=1.10->py-agender) (4.28.1)\n",
            "Requirement already satisfied: pkginfo>=1.4.2 in /usr/local/lib/python3.6/dist-packages (from twine>=1.10->py-agender) (1.5.0.1)\n",
            "Requirement already satisfied: SecretStorage>=3; sys_platform == \"linux\" in /usr/local/lib/python3.6/dist-packages (from keyring>=15.1->twine>=1.10->py-agender) (3.1.2)\n",
            "Requirement already satisfied: jeepney>=0.4.2; sys_platform == \"linux\" in /usr/local/lib/python3.6/dist-packages (from keyring>=15.1->twine>=1.10->py-agender) (0.4.3)\n",
            "Requirement already satisfied: zipp>=0.5 in /usr/local/lib/python3.6/dist-packages (from importlib-metadata; python_version < \"3.8\"->twine>=1.10->py-agender) (3.1.0)\n",
            "Requirement already satisfied: idna<2.9,>=2.5 in /usr/local/lib/python3.6/dist-packages (from requests>=2.20->twine>=1.10->py-agender) (2.8)\n",
            "Requirement already satisfied: chardet<3.1.0,>=3.0.2 in /usr/local/lib/python3.6/dist-packages (from requests>=2.20->twine>=1.10->py-agender) (3.0.4)\n",
            "Requirement already satisfied: certifi>=2017.4.17 in /usr/local/lib/python3.6/dist-packages (from requests>=2.20->twine>=1.10->py-agender) (2019.11.28)\n",
            "Requirement already satisfied: urllib3<1.25,>=1.21.1 in /usr/local/lib/python3.6/dist-packages (from requests>=2.20->twine>=1.10->py-agender) (1.24.3)\n",
            "Requirement already satisfied: bleach>=2.1.0 in /usr/local/lib/python3.6/dist-packages (from readme-renderer>=21.0->twine>=1.10->py-agender) (3.1.0)\n",
            "Requirement already satisfied: Pygments in /usr/local/lib/python3.6/dist-packages (from readme-renderer>=21.0->twine>=1.10->py-agender) (2.1.3)\n",
            "Requirement already satisfied: docutils>=0.13.1 in /usr/local/lib/python3.6/dist-packages (from readme-renderer>=21.0->twine>=1.10->py-agender) (0.15.2)\n",
            "Requirement already satisfied: cryptography in /usr/local/lib/python3.6/dist-packages (from SecretStorage>=3; sys_platform == \"linux\"->keyring>=15.1->twine>=1.10->py-agender) (2.8)\n",
            "Requirement already satisfied: webencodings in /usr/local/lib/python3.6/dist-packages (from bleach>=2.1.0->readme-renderer>=21.0->twine>=1.10->py-agender) (0.5.1)\n",
            "Requirement already satisfied: cffi!=1.11.3,>=1.8 in /usr/local/lib/python3.6/dist-packages (from cryptography->SecretStorage>=3; sys_platform == \"linux\"->keyring>=15.1->twine>=1.10->py-agender) (1.14.0)\n",
            "Requirement already satisfied: pycparser in /usr/local/lib/python3.6/dist-packages (from cffi!=1.11.3,>=1.8->cryptography->SecretStorage>=3; sys_platform == \"linux\"->keyring>=15.1->twine>=1.10->py-agender) (2.19)\n"
          ],
          "name": "stdout"
        }
      ]
    },
    {
      "cell_type": "code",
      "metadata": {
        "id": "lN2JBdGzkeMx",
        "colab_type": "code",
        "colab": {}
      },
      "source": [
        ""
      ],
      "execution_count": 0,
      "outputs": []
    }
  ]
}